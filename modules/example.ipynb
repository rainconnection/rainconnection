{
 "cells": [
  {
   "cell_type": "code",
   "execution_count": 1,
   "id": "d4cffdd8-b9ba-4acb-9e31-2acad716636a",
   "metadata": {},
   "outputs": [],
   "source": [
    "import numpy as np\n",
    "\n",
    "from haversine import haversine_np\n",
    "from haversine import haversine_np_arrays\n",
    "\n",
    "from string_clean import sub_special_characters"
   ]
  },
  {
   "cell_type": "markdown",
   "id": "eda3c2ad-2407-4878-a725-d3192f7418f6",
   "metadata": {
    "jp-MarkdownHeadingCollapsed": true
   },
   "source": [
    "## 위경도기반 거리계산"
   ]
  },
  {
   "cell_type": "code",
   "execution_count": 2,
   "id": "a7de1772-cbb3-48cf-9319-738bbcce2f4e",
   "metadata": {},
   "outputs": [],
   "source": [
    "lat1 = (np.random.rand(100)-0.5)*90\n",
    "lon1 = (np.random.rand(100)-0.5)*180\n",
    "\n",
    "lat2 = (np.random.rand(120)-0.5)*90\n",
    "lon2 = (np.random.rand(120)-0.5)*180"
   ]
  },
  {
   "cell_type": "markdown",
   "id": "b2049afd-9aa2-47dd-8311-40a009652e19",
   "metadata": {},
   "source": [
    "#### 기존 코드"
   ]
  },
  {
   "cell_type": "code",
   "execution_count": 3,
   "id": "7e32bc02-c259-4c6c-b603-d35cf4b4921c",
   "metadata": {},
   "outputs": [
    {
     "data": {
      "text/plain": [
       "array([7717.95563885, 4207.18466053])"
      ]
     },
     "execution_count": 3,
     "metadata": {},
     "output_type": "execute_result"
    }
   ],
   "source": [
    "haversine_np(lat1[:2], lon1[:2], lat2[:2], lon2[:2])"
   ]
  },
  {
   "cell_type": "markdown",
   "id": "7a61f7bc-ef3c-49c5-93ca-3d41161c2919",
   "metadata": {},
   "source": [
    "#### matrix 형태로 변형\n",
    "* 모든 pair points들 각각 거리 계산"
   ]
  },
  {
   "cell_type": "code",
   "execution_count": 4,
   "id": "29c46f71-c636-49af-a000-c76a849c7de5",
   "metadata": {},
   "outputs": [
    {
     "data": {
      "text/plain": [
       "array([[7717.95563885, 3081.05062011],\n",
       "       [7835.4538079 , 4207.18466053]])"
      ]
     },
     "execution_count": 4,
     "metadata": {},
     "output_type": "execute_result"
    }
   ],
   "source": [
    "haversine_np_arrays(lat1[:2], lon1[:2], lat2[:2], lon2[:2])"
   ]
  },
  {
   "cell_type": "markdown",
   "id": "519ae3eb-f403-41c9-9e8c-a1a8e6c05ce8",
   "metadata": {},
   "source": [
    "## 특수문자 제거"
   ]
  },
  {
   "cell_type": "code",
   "execution_count": 2,
   "id": "74f6396c-e46e-499f-9578-28ca91db1384",
   "metadata": {},
   "outputs": [
    {
     "data": {
      "text/plain": [
       "'Oracle 오라클 특수문자 찾기 정규식 젠트의 프로그래밍 세상'"
      ]
     },
     "execution_count": 2,
     "metadata": {},
     "output_type": "execute_result"
    }
   ],
   "source": [
    "sub_special_characters('[Oracle] 오라클 특수문자 찾기 (정규식) - 젠트의 프로그래밍 세상')"
   ]
  }
 ],
 "metadata": {
  "kernelspec": {
   "display_name": "Python 3 (ipykernel)",
   "language": "python",
   "name": "python3"
  },
  "language_info": {
   "codemirror_mode": {
    "name": "ipython",
    "version": 3
   },
   "file_extension": ".py",
   "mimetype": "text/x-python",
   "name": "python",
   "nbconvert_exporter": "python",
   "pygments_lexer": "ipython3",
   "version": "3.11.7"
  }
 },
 "nbformat": 4,
 "nbformat_minor": 5
}
